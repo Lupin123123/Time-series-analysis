{
 "cells": [
  {
   "cell_type": "code",
   "execution_count": 18,
   "metadata": {},
   "outputs": [],
   "source": [
    "# from model import Mlp, TF\n",
    "import torch"
   ]
  },
  {
   "cell_type": "code",
   "execution_count": 19,
   "metadata": {},
   "outputs": [],
   "source": [
    "import torch\n",
    "import torch.nn as nn\n",
    "\n",
    "import torch\n",
    "import torch.nn as nn\n",
    "from timm.models.layers import DropPath, to_2tuple, trunc_normal_\n",
    "\n",
    "class Mlp(nn.Module):\n",
    "    def __init__(self, in_features, hidden_features=None, act_layer=nn.GELU, drop=0., pred=True):\n",
    "        super(Mlp, self).__init__()\n",
    "        #out_features = out_features or in_features\n",
    "        self.hidden_features = hidden_features or in_features\n",
    "        self.q = nn.Linear(in_features, in_features)\n",
    "        self.k = nn.Linear(in_features, in_features)\n",
    "        self.v = nn.Linear(in_features, in_features)\n",
    "        self.fc1 = nn.Linear(in_features, hidden_features)\n",
    "        self.act = act_layer()\n",
    "        self.pred = pred\n",
    "        if pred==True:\n",
    "            self.fc2 = nn.Linear(hidden_features, 1)\n",
    "        else:\n",
    "            self.fc2 = nn.Linear(hidden_features, in_features)\n",
    "        self.drop = nn.Dropout(drop)\n",
    "\n",
    "    def forward(self, x):\n",
    "        x0 = x\n",
    "        q = self.q(x)\n",
    "        # print(q.shape)\n",
    "        k = self.k(x)\n",
    "        # print(k.shape)\n",
    "        v = self.v(x)\n",
    "        # print(v.shape)\n",
    "        attn = (q @ k.transpose(-2, -1))\n",
    "        # print(attn.size())\n",
    "        attn = attn.softmax(dim=-1)\n",
    "        x = (attn @ v).squeeze(-1)\n",
    "        # print(x.size())\n",
    "        x += x0\n",
    "        x1 = x\n",
    "        x = self.fc1(x)\n",
    "        x = self.act(x)\n",
    "        x = self.drop(x)\n",
    "        x = self.fc2(x)\n",
    "        x = self.drop(x)\n",
    "        if self.pred==False:\n",
    "            x += x1\n",
    "        return x\n",
    "\n",
    "\n",
    "class TF(nn.Module):\n",
    "    def __init__(self, in_features, drop=0.):\n",
    "        super().__init__()\n",
    "        self.Block1 = Mlp(in_features=in_features, hidden_features=64, act_layer=nn.GELU, drop=drop, pred=False)\n",
    "        self.Block2 = Mlp(in_features=in_features, hidden_features=64, act_layer=nn.GELU, drop=drop, pred=False)\n",
    "        self.in_features = in_features\n",
    "    def forward(self, x):\n",
    "        x0 = self.Block1(x)\n",
    "        # print(x0.shape)\n",
    "        x1 = self.Block2(x0)\n",
    "        # print(x1.shape)\n",
    "        x2 = torch.flatten(x1, start_dim=1)\n",
    "        # print(x2.shape)\n",
    "        x3 = nn.Linear(in_features=x2.size(-1), out_features=8)(x2)\n",
    "        return x3.reshape(-1, 1, self.in_features)"
   ]
  },
  {
   "cell_type": "code",
   "execution_count": 20,
   "metadata": {},
   "outputs": [],
   "source": [
    "model = TF(in_features=8)"
   ]
  },
  {
   "cell_type": "code",
   "execution_count": 21,
   "metadata": {},
   "outputs": [
    {
     "data": {
      "text/plain": [
       "torch.Size([1, 72, 8])"
      ]
     },
     "execution_count": 21,
     "metadata": {},
     "output_type": "execute_result"
    }
   ],
   "source": [
    "mode1 = Mlp(in_features=8, hidden_features=64, pred=False)\n",
    "x = torch.rand(1, 72, 8)\n",
    "y = mode1(x)\n",
    "y.shape"
   ]
  },
  {
   "cell_type": "code",
   "execution_count": 22,
   "metadata": {},
   "outputs": [
    {
     "data": {
      "text/plain": [
       "torch.Size([64, 1, 8])"
      ]
     },
     "execution_count": 22,
     "metadata": {},
     "output_type": "execute_result"
    }
   ],
   "source": [
    "x = torch.rand(64, 72, 8)\n",
    "y = model(x)\n",
    "y.shape"
   ]
  }
 ],
 "metadata": {
  "kernelspec": {
   "display_name": "base",
   "language": "python",
   "name": "python3"
  },
  "language_info": {
   "codemirror_mode": {
    "name": "ipython",
    "version": 3
   },
   "file_extension": ".py",
   "mimetype": "text/x-python",
   "name": "python",
   "nbconvert_exporter": "python",
   "pygments_lexer": "ipython3",
   "version": "3.9.12"
  },
  "orig_nbformat": 4,
  "vscode": {
   "interpreter": {
    "hash": "5179d32cf6ec497baf3f8a3ef987cc77c5d2dc691fdde20a56316522f61a7323"
   }
  }
 },
 "nbformat": 4,
 "nbformat_minor": 2
}
